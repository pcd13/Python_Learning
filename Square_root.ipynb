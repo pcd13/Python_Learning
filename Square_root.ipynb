{
 "cells": [
  {
   "cell_type": "code",
   "execution_count": 46,
   "metadata": {},
   "outputs": [],
   "source": [
    "def root(num):    \n",
    "    if (num ==0 or num==1 ): # if number is 0 or 1 then it will return same number \n",
    "        return num\n",
    "    s = 0                 # defining start \n",
    "    e = num               # defining end \n",
    "    while (s <= e) : \n",
    "        m = (s+e)//2      # finding mid of range \n",
    "        if (m*m == num) : # if square of mid is number then mid is oue answer \n",
    "            return m \n",
    "        if (m*m < num ) : # if square of mid is smaller then answer is in right part else it in left part\n",
    "            s = m+1       # updating start index \n",
    "            ans = m  \n",
    "        else :\n",
    "            e= m-1         # updating end value\n",
    "        \n",
    "    return ans\n",
    "\n"
   ]
  },
  {
   "cell_type": "code",
   "execution_count": 50,
   "metadata": {},
   "outputs": [
    {
     "name": "stdout",
     "output_type": "stream",
     "text": [
      "2\n",
      "3\n",
      "4\n"
     ]
    }
   ],
   "source": [
    "print (root(8))\n",
    "print (root(11))\n",
    "print (root(16))"
   ]
  }
 ],
 "metadata": {
  "kernelspec": {
   "display_name": "Python 3.10.5 64-bit",
   "language": "python",
   "name": "python3"
  },
  "language_info": {
   "codemirror_mode": {
    "name": "ipython",
    "version": 3
   },
   "file_extension": ".py",
   "mimetype": "text/x-python",
   "name": "python",
   "nbconvert_exporter": "python",
   "pygments_lexer": "ipython3",
   "version": "3.10.5"
  },
  "orig_nbformat": 4,
  "vscode": {
   "interpreter": {
    "hash": "8e2fd46a8f84ec2d4dcc683d678513fbe7f3ca81c41b0e5206986e53987fc391"
   }
  }
 },
 "nbformat": 4,
 "nbformat_minor": 2
}
